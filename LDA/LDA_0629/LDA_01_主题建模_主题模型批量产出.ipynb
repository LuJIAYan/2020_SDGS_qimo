{
 "cells": [
  {
   "cell_type": "markdown",
   "metadata": {},
   "source": [
    "# 模块化目标\n",
    "\n",
    "## 对原有项目做抽象/一般化\n",
    "- prj_name: \"中国报业首届盈利模式创新大赛\"\n",
    "- prj_src：[\"微信公众号\", \"传媒融中对\"]\n",
    "- prj_lang：\"zh_CN\"  # 中文\n",
    "- process: [\"LDA\", \"01\"]\n",
    "\n",
    "## 对数据之输入及输出做最小化设计\n",
    "### 原来\n",
    "- filename: \"word_freq_new\": \"data_sets/submissions_profit_model_word_freq_new.xlsx\"\n",
    "- sheetname: \"dataset\"\n",
    "- df name: dataset_df\n",
    "- 必需/关键栏位['BOW_JB', 'lentity', 'lcontent']\n",
    "    - dataset_df.BOW_JB \n",
    "        - 小小研究 keyword in context\n",
    "    - dataset_df.lcontent\n",
    "        - 建立字频表：先tokenize 再 freq/rank     \n",
    "        - 合并字词\n",
    "        - 移除单字词\n",
    "- 额外/元数据栏位[label0...label5]不同文本结点的内容, 信息可视化要用到, 来源於元数据或entity words，可考虑抽出来做额外脚本及模块化\n",
    "    - dataset_df.numb 所属报业集团 title lentity\n",
    "- 主题建模处理\n",
    "    - dataset_df.lcontent\n",
    "    - 建立corpus\n",
    "    - 产出doc_term_dists\n",
    "    - _model_['doc_topic_dists']  = lda.transform(doc_term_dists)\n",
    "        - 输入 doc_term_dists  文本-字词分布矩阵\n",
    "        - 输出 model  LDA主题模型\n",
    "- 随机森林\n",
    "    * 还没应用, 纯实验\n",
    "    * 输入 doc_term_dists 文本-字词分布矩阵\n",
    "    * 产出 df_importance 可供助理/研究人员建构taxonomy使用\n",
    "    \n",
    "    \n",
    "### 新版\n",
    "- 预处理 (未完成)\n",
    "- 主题建模处理 (已完成, 廖汉腾, 7 小时工时)\n",
    "    - filename: \"LDA_input.csv\"\n",
    "    - df name: df\n",
    "    - 必需/关键栏位['doc_label', 'doc_content']\n",
    "    - 产出tsv\n",
    "        - \"LDA_topic_term_n\": \"data_sets/LDA_topic_term_{n}.tsv\",     # output\n",
    "        - \"LDA_doc_topic_n\": \"data_sets/LDA_doc_topic_{n}.tsv\",       # output\n",
    "    - 产出pkl模型\n",
    "        - \"LDA_pickle_n\": \"pkl/LDA_{n}.pickle\"\n",
    "- 随机森林 (未完成)\n",
    "    \n",
    "### 模块化分析\n",
    "\n",
    "应该采 原内容丶实体丶无实体内容 三种数据流拆分处理\n",
    "\n",
    "- 主题模型的运算，仅做无实体内容\n",
    "- 主题模型后的文本标记label，可采用(1)实体内容或(2)其它元数据内容，应该为另外额外模组/块\n",
    "- 原内容如何变成实体及无实体内容，应该是在以前就处理完毕\n",
    "- 主题模型的核心模块，应该简化\n",
    "  - 中英文均能处理，中文内容需要先补上空白\n",
    "  - 输出LDA 模型，可以批量\n",
    "\n"
   ]
  },
  {
   "cell_type": "code",
   "execution_count": 1,
   "metadata": {},
   "outputs": [],
   "source": [
    "fn = { \"LDA_input\": \"data_sets/LDA_input.csv\",# input\n",
    "       \"LDA_pickle_n\": \"pkl/LDA_{n}.pickle\",  # output\n",
    "       \"LDA_topic_term_n\": \"data_sets/LDA_topic_term_{n}.tsv\",     # output\n",
    "       \"LDA_doc_topic_n\": \"data_sets/LDA_doc_topic_{n}.tsv\",       # output\n",
    "      }"
   ]
  },
  {
   "cell_type": "code",
   "execution_count": 2,
   "metadata": {},
   "outputs": [],
   "source": [
    "import pandas as pd\n",
    "from collections import OrderedDict, defaultdict\n",
    "import pickle"
   ]
  },
  {
   "cell_type": "markdown",
   "metadata": {},
   "source": [
    "# 输入简单文本数据\n",
    "必要文本doc栏位，最少\n",
    "* doc_label\n",
    "* doc_content"
   ]
  },
  {
   "cell_type": "code",
   "execution_count": 3,
   "metadata": {},
   "outputs": [],
   "source": [
    "df = pd.read_csv(fn[\"LDA_input\"], sep=\"\\t\", encoding=\"utf8\", index_col=0)\n",
    "corpus = df.doc_content.to_dict(into=OrderedDict)  # 从to_list() 升级改成to_dict()"
   ]
  },
  {
   "cell_type": "markdown",
   "metadata": {},
   "source": [
    "# 使用LDA核心模塊\n",
    "* .doc_vectorizer # 文本矢量化 LDA不需用tf-idf，用tf即可\n",
    "* .LDA_run # LDA主题模型 指定要几个主题，預設值N=7\n",
    "* .gen_df_topic    # 产出Topics主题的表格\n",
    "* .gen_df_doc_topic # 产出最简化的文本-主题-赋值矩阵"
   ]
  },
  {
   "cell_type": "code",
   "execution_count": 4,
   "metadata": {},
   "outputs": [],
   "source": [
    "import LDA_core as LDAc"
   ]
  },
  {
   "cell_type": "code",
   "execution_count": 5,
   "metadata": {},
   "outputs": [
    {
     "name": "stdout",
     "output_type": "stream",
     "text": [
      "Wall time: 6.92 s\n"
     ]
    }
   ],
   "source": [
    "%%time\n",
    "\n",
    "# 测一个\n",
    "min_occurences = 4 # 特徵值门槛\n",
    "no_topics = 7\n",
    "N, LDA,topic_term, doc_topic = LDAc.LDA_run_all(corpus, no_topics, \n",
    "                                                min_df=min_occurences/len(corpus)) \n",
    "                                              #, max_df=0.5 , max_features=50000"
   ]
  },
  {
   "cell_type": "markdown",
   "metadata": {},
   "source": [
    "-----\n",
    "# 批次输出模型"
   ]
  },
  {
   "cell_type": "markdown",
   "metadata": {},
   "source": [
    "## 纯模型, 无 doc label"
   ]
  },
  {
   "cell_type": "code",
   "execution_count": 6,
   "metadata": {},
   "outputs": [],
   "source": [
    "for N in range(4,13):\n",
    "    _model_, LDA,topic_term, doc_topic = LDAc.LDA_run_all(corpus, N, min_df=min_occurences/len(corpus))\n",
    "    \n",
    "    with open(fn[\"LDA_pickle_n\"].format(n=N), 'wb') as handle:\n",
    "        pickle.dump(_model_, handle, protocol=pickle.HIGHEST_PROTOCOL)\n",
    "        \n",
    "    topic_term.to_csv(fn[\"LDA_topic_term_n\"].format(n=N), sep=\"\\t\", encoding=\"utf8\")\n",
    "    doc_topic.to_csv(fn[\"LDA_doc_topic_n\"].format(n=N), sep=\"\\t\", encoding=\"utf8\")\n",
    "        "
   ]
  },
  {
   "cell_type": "code",
   "execution_count": null,
   "metadata": {},
   "outputs": [],
   "source": []
  }
 ],
 "metadata": {
  "kernelspec": {
   "display_name": "Python 3",
   "language": "python",
   "name": "python3"
  },
  "language_info": {
   "codemirror_mode": {
    "name": "ipython",
    "version": 3
   },
   "file_extension": ".py",
   "mimetype": "text/x-python",
   "name": "python",
   "nbconvert_exporter": "python",
   "pygments_lexer": "ipython3",
   "version": "3.7.7"
  },
  "nbTranslate": {
   "displayLangs": [
    "*"
   ],
   "hotkey": "alt-t",
   "langInMainMenu": true,
   "sourceLang": "en",
   "targetLang": "fr",
   "useGoogleTranslate": true
  },
  "toc": {
   "base_numbering": 1,
   "nav_menu": {},
   "number_sections": true,
   "sideBar": true,
   "skip_h1_title": false,
   "title_cell": "Table of Contents",
   "title_sidebar": "Contents",
   "toc_cell": false,
   "toc_position": {},
   "toc_section_display": true,
   "toc_window_display": false
  },
  "varInspector": {
   "cols": {
    "lenName": 16,
    "lenType": 16,
    "lenVar": 40
   },
   "kernels_config": {
    "python": {
     "delete_cmd_postfix": "",
     "delete_cmd_prefix": "del ",
     "library": "var_list.py",
     "varRefreshCmd": "print(var_dic_list())"
    },
    "r": {
     "delete_cmd_postfix": ") ",
     "delete_cmd_prefix": "rm(",
     "library": "var_list.r",
     "varRefreshCmd": "cat(var_dic_list()) "
    }
   },
   "types_to_exclude": [
    "module",
    "function",
    "builtin_function_or_method",
    "instance",
    "_Feature"
   ],
   "window_display": false
  }
 },
 "nbformat": 4,
 "nbformat_minor": 2
}
